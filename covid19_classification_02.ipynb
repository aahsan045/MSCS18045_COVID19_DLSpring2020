{
  "nbformat": 4,
  "nbformat_minor": 0,
  "metadata": {
    "colab": {
      "name": "Full_Network_VGG_AND_Renet18.ipynb",
      "provenance": [],
      "collapsed_sections": [],
      "machine_shape": "hm"
    },
    "kernelspec": {
      "name": "python3",
      "display_name": "Python 3"
    },
    "accelerator": "GPU",
    "widgets": {
      "application/vnd.jupyter.widget-state+json": {
        "34c1a43c06e04ba8a6b30108eaf6877b": {
          "model_module": "@jupyter-widgets/controls",
          "model_name": "HBoxModel",
          "state": {
            "_view_name": "HBoxView",
            "_dom_classes": [],
            "_model_name": "HBoxModel",
            "_view_module": "@jupyter-widgets/controls",
            "_model_module_version": "1.5.0",
            "_view_count": null,
            "_view_module_version": "1.5.0",
            "box_style": "",
            "layout": "IPY_MODEL_6774c8e5a98f4934bf762745cf05cfb2",
            "_model_module": "@jupyter-widgets/controls",
            "children": [
              "IPY_MODEL_e808c619f2d440a69f36985828511450",
              "IPY_MODEL_e0bb5ea1e81743c5853e83a3f3c7640f"
            ]
          }
        },
        "6774c8e5a98f4934bf762745cf05cfb2": {
          "model_module": "@jupyter-widgets/base",
          "model_name": "LayoutModel",
          "state": {
            "_view_name": "LayoutView",
            "grid_template_rows": null,
            "right": null,
            "justify_content": null,
            "_view_module": "@jupyter-widgets/base",
            "overflow": null,
            "_model_module_version": "1.2.0",
            "_view_count": null,
            "flex_flow": null,
            "width": null,
            "min_width": null,
            "border": null,
            "align_items": null,
            "bottom": null,
            "_model_module": "@jupyter-widgets/base",
            "top": null,
            "grid_column": null,
            "overflow_y": null,
            "overflow_x": null,
            "grid_auto_flow": null,
            "grid_area": null,
            "grid_template_columns": null,
            "flex": null,
            "_model_name": "LayoutModel",
            "justify_items": null,
            "grid_row": null,
            "max_height": null,
            "align_content": null,
            "visibility": null,
            "align_self": null,
            "height": null,
            "min_height": null,
            "padding": null,
            "grid_auto_rows": null,
            "grid_gap": null,
            "max_width": null,
            "order": null,
            "_view_module_version": "1.2.0",
            "grid_template_areas": null,
            "object_position": null,
            "object_fit": null,
            "grid_auto_columns": null,
            "margin": null,
            "display": null,
            "left": null
          }
        },
        "e808c619f2d440a69f36985828511450": {
          "model_module": "@jupyter-widgets/controls",
          "model_name": "IntProgressModel",
          "state": {
            "_view_name": "ProgressView",
            "style": "IPY_MODEL_8e1634fcb22144e68fc3d9e99494fc7d",
            "_dom_classes": [],
            "description": "100%",
            "_model_name": "IntProgressModel",
            "bar_style": "success",
            "max": 46827520,
            "_view_module": "@jupyter-widgets/controls",
            "_model_module_version": "1.5.0",
            "value": 46827520,
            "_view_count": null,
            "_view_module_version": "1.5.0",
            "orientation": "horizontal",
            "min": 0,
            "description_tooltip": null,
            "_model_module": "@jupyter-widgets/controls",
            "layout": "IPY_MODEL_1c312adae00741dea9d3f03e7bcc6d0b"
          }
        },
        "e0bb5ea1e81743c5853e83a3f3c7640f": {
          "model_module": "@jupyter-widgets/controls",
          "model_name": "HTMLModel",
          "state": {
            "_view_name": "HTMLView",
            "style": "IPY_MODEL_915e1bd620ad4db28af06dc7cd6f1162",
            "_dom_classes": [],
            "description": "",
            "_model_name": "HTMLModel",
            "placeholder": "​",
            "_view_module": "@jupyter-widgets/controls",
            "_model_module_version": "1.5.0",
            "value": " 44.7M/44.7M [00:00&lt;00:00, 81.5MB/s]",
            "_view_count": null,
            "_view_module_version": "1.5.0",
            "description_tooltip": null,
            "_model_module": "@jupyter-widgets/controls",
            "layout": "IPY_MODEL_3413b0123b894e2592f2f6a9aa92c5ad"
          }
        },
        "8e1634fcb22144e68fc3d9e99494fc7d": {
          "model_module": "@jupyter-widgets/controls",
          "model_name": "ProgressStyleModel",
          "state": {
            "_view_name": "StyleView",
            "_model_name": "ProgressStyleModel",
            "description_width": "initial",
            "_view_module": "@jupyter-widgets/base",
            "_model_module_version": "1.5.0",
            "_view_count": null,
            "_view_module_version": "1.2.0",
            "bar_color": null,
            "_model_module": "@jupyter-widgets/controls"
          }
        },
        "1c312adae00741dea9d3f03e7bcc6d0b": {
          "model_module": "@jupyter-widgets/base",
          "model_name": "LayoutModel",
          "state": {
            "_view_name": "LayoutView",
            "grid_template_rows": null,
            "right": null,
            "justify_content": null,
            "_view_module": "@jupyter-widgets/base",
            "overflow": null,
            "_model_module_version": "1.2.0",
            "_view_count": null,
            "flex_flow": null,
            "width": null,
            "min_width": null,
            "border": null,
            "align_items": null,
            "bottom": null,
            "_model_module": "@jupyter-widgets/base",
            "top": null,
            "grid_column": null,
            "overflow_y": null,
            "overflow_x": null,
            "grid_auto_flow": null,
            "grid_area": null,
            "grid_template_columns": null,
            "flex": null,
            "_model_name": "LayoutModel",
            "justify_items": null,
            "grid_row": null,
            "max_height": null,
            "align_content": null,
            "visibility": null,
            "align_self": null,
            "height": null,
            "min_height": null,
            "padding": null,
            "grid_auto_rows": null,
            "grid_gap": null,
            "max_width": null,
            "order": null,
            "_view_module_version": "1.2.0",
            "grid_template_areas": null,
            "object_position": null,
            "object_fit": null,
            "grid_auto_columns": null,
            "margin": null,
            "display": null,
            "left": null
          }
        },
        "915e1bd620ad4db28af06dc7cd6f1162": {
          "model_module": "@jupyter-widgets/controls",
          "model_name": "DescriptionStyleModel",
          "state": {
            "_view_name": "StyleView",
            "_model_name": "DescriptionStyleModel",
            "description_width": "",
            "_view_module": "@jupyter-widgets/base",
            "_model_module_version": "1.5.0",
            "_view_count": null,
            "_view_module_version": "1.2.0",
            "_model_module": "@jupyter-widgets/controls"
          }
        },
        "3413b0123b894e2592f2f6a9aa92c5ad": {
          "model_module": "@jupyter-widgets/base",
          "model_name": "LayoutModel",
          "state": {
            "_view_name": "LayoutView",
            "grid_template_rows": null,
            "right": null,
            "justify_content": null,
            "_view_module": "@jupyter-widgets/base",
            "overflow": null,
            "_model_module_version": "1.2.0",
            "_view_count": null,
            "flex_flow": null,
            "width": null,
            "min_width": null,
            "border": null,
            "align_items": null,
            "bottom": null,
            "_model_module": "@jupyter-widgets/base",
            "top": null,
            "grid_column": null,
            "overflow_y": null,
            "overflow_x": null,
            "grid_auto_flow": null,
            "grid_area": null,
            "grid_template_columns": null,
            "flex": null,
            "_model_name": "LayoutModel",
            "justify_items": null,
            "grid_row": null,
            "max_height": null,
            "align_content": null,
            "visibility": null,
            "align_self": null,
            "height": null,
            "min_height": null,
            "padding": null,
            "grid_auto_rows": null,
            "grid_gap": null,
            "max_width": null,
            "order": null,
            "_view_module_version": "1.2.0",
            "grid_template_areas": null,
            "object_position": null,
            "object_fit": null,
            "grid_auto_columns": null,
            "margin": null,
            "display": null,
            "left": null
          }
        }
      }
    }
  },
  "cells": [
    {
      "cell_type": "code",
      "metadata": {
        "id": "hPZfj9o3xxRV",
        "colab_type": "code",
        "outputId": "81b7fbf2-55bb-444e-ce99-7237c72eadd6",
        "colab": {
          "base_uri": "https://localhost:8080/",
          "height": 34
        }
      },
      "source": [
        "from google.colab import drive\n",
        "drive.mount(\"./gdrive\")"
      ],
      "execution_count": 0,
      "outputs": [
        {
          "output_type": "stream",
          "text": [
            "Drive already mounted at ./gdrive; to attempt to forcibly remount, call drive.mount(\"./gdrive\", force_remount=True).\n"
          ],
          "name": "stdout"
        }
      ]
    },
    {
      "cell_type": "code",
      "metadata": {
        "id": "vwFFx_dxY9nz",
        "colab_type": "code",
        "colab": {}
      },
      "source": [
        "import torch\n",
        "import torch.nn as nn\n",
        "import torch.optim as optim\n",
        "from torch.optim import lr_scheduler\n",
        "from torch.autograd import Variable\n",
        "import numpy as np\n",
        "import torchvision\n",
        "from torchvision import datasets, models, transforms\n",
        "import matplotlib.pyplot as plt\n",
        "import time\n",
        "import os\n",
        "import copy"
      ],
      "execution_count": 0,
      "outputs": []
    },
    {
      "cell_type": "code",
      "metadata": {
        "id": "XfTKCCN0ZCMs",
        "colab_type": "code",
        "colab": {}
      },
      "source": [
        "data_dir = '/content/Assignment 5 Dataset'"
      ],
      "execution_count": 0,
      "outputs": []
    },
    {
      "cell_type": "code",
      "metadata": {
        "id": "BIqBJYfmqEjs",
        "colab_type": "code",
        "colab": {}
      },
      "source": [
        "#!unzip \"/content/gdrive/My Drive/Assignment 5 Dataset.zip\""
      ],
      "execution_count": 0,
      "outputs": []
    },
    {
      "cell_type": "code",
      "metadata": {
        "id": "aDQKyAhkaTSj",
        "colab_type": "code",
        "outputId": "bb176d13-302a-46d2-c303-48f9f13a9cba",
        "colab": {
          "base_uri": "https://localhost:8080/",
          "height": 51
        }
      },
      "source": [
        "train_transforms = transforms.Compose([transforms.RandomRotation(30),\n",
        "                                       transforms.RandomResizedCrop(224),\n",
        "                                       transforms.RandomHorizontalFlip(),\n",
        "                                       transforms.ToTensor(),\n",
        "                                       transforms.Normalize([0.485, 0.456, 0.406],\n",
        "                                                            [0.229, 0.224, 0.225])])\n",
        "\n",
        "test_transforms = transforms.Compose([transforms.Resize(256),\n",
        "                                      transforms.CenterCrop(224),\n",
        "                                      transforms.ToTensor(),\n",
        "                                      transforms.Normalize([0.485, 0.456, 0.406],\n",
        "                                                           [0.229, 0.224, 0.225])])\n",
        "\n",
        "#pass transform here-in\n",
        "train_data = datasets.ImageFolder(data_dir + '/train', transform=train_transforms)\n",
        "validation_data=datasets.ImageFolder(data_dir + '/validation', transform=test_transforms)  ##Train-Transform to the Validation data also\n",
        "test_data = datasets.ImageFolder(data_dir + '/test', transform=test_transforms)\n",
        "\n",
        "#data loaders\n",
        "trainloader = torch.utils.data.DataLoader(train_data, batch_size=32, shuffle=True,num_workers=16)\n",
        "validationloader = torch.utils.data.DataLoader(validation_data, batch_size=32, shuffle=True,num_workers=16)\n",
        "testloader = torch.utils.data.DataLoader(test_data, batch_size=32, shuffle=True,num_workers=16)\n",
        "\n",
        "print(\"Classes: \")\n",
        "class_names = train_data.classes\n",
        "print(class_names)"
      ],
      "execution_count": 0,
      "outputs": [
        {
          "output_type": "stream",
          "text": [
            "Classes: \n",
            "['infected', 'normal']\n"
          ],
          "name": "stdout"
        }
      ]
    },
    {
      "cell_type": "code",
      "metadata": {
        "id": "Ah6yn9VObQ3Z",
        "colab_type": "code",
        "outputId": "4832d8be-d3ec-4da6-f34f-049561e5061a",
        "colab": {
          "base_uri": "https://localhost:8080/",
          "height": 54
        }
      },
      "source": [
        "'''\n",
        "def imshow(inp, title=None):\n",
        "    inp = inp.numpy().transpose((1, 2, 0))\n",
        "    plt.axis('off')\n",
        "    plt.imshow(inp)\n",
        "    if title is not None:\n",
        "        plt.title(title)\n",
        "    plt.pause(0.001)\n",
        "\n",
        "def show_databatch(inputs, classes):\n",
        "    out = torchvision.utils.make_grid(inputs)\n",
        "    imshow(out, title=[class_names[x] for x in classes])\n",
        "\n",
        "# Get a batch of training data\n",
        "inputs, classes = next(iter(trainloader))\n",
        "show_databatch(inputs, classes)\n",
        "'''"
      ],
      "execution_count": 0,
      "outputs": [
        {
          "output_type": "execute_result",
          "data": {
            "text/plain": [
              "\"\\ndef imshow(inp, title=None):\\n    inp = inp.numpy().transpose((1, 2, 0))\\n    plt.axis('off')\\n    plt.imshow(inp)\\n    if title is not None:\\n        plt.title(title)\\n    plt.pause(0.001)\\n\\ndef show_databatch(inputs, classes):\\n    out = torchvision.utils.make_grid(inputs)\\n    imshow(out, title=[class_names[x] for x in classes])\\n\\n# Get a batch of training data\\ninputs, classes = next(iter(trainloader))\\nshow_databatch(inputs, classes)\\n\""
            ]
          },
          "metadata": {
            "tags": []
          },
          "execution_count": 6
        }
      ]
    },
    {
      "cell_type": "code",
      "metadata": {
        "id": "Fog4ppbdokba",
        "colab_type": "code",
        "colab": {}
      },
      "source": [
        "vgg16 = models.vgg16(pretrained=True)"
      ],
      "execution_count": 0,
      "outputs": []
    },
    {
      "cell_type": "code",
      "metadata": {
        "id": "u34ntiUeza0P",
        "colab_type": "code",
        "outputId": "d9a9a361-c8ec-4044-e988-5f95e2192691",
        "colab": {
          "base_uri": "https://localhost:8080/",
          "height": 578
        }
      },
      "source": [
        "print(vgg16.features)"
      ],
      "execution_count": 0,
      "outputs": [
        {
          "output_type": "stream",
          "text": [
            "Sequential(\n",
            "  (0): Conv2d(3, 64, kernel_size=(3, 3), stride=(1, 1), padding=(1, 1))\n",
            "  (1): ReLU(inplace=True)\n",
            "  (2): Conv2d(64, 64, kernel_size=(3, 3), stride=(1, 1), padding=(1, 1))\n",
            "  (3): ReLU(inplace=True)\n",
            "  (4): MaxPool2d(kernel_size=2, stride=2, padding=0, dilation=1, ceil_mode=False)\n",
            "  (5): Conv2d(64, 128, kernel_size=(3, 3), stride=(1, 1), padding=(1, 1))\n",
            "  (6): ReLU(inplace=True)\n",
            "  (7): Conv2d(128, 128, kernel_size=(3, 3), stride=(1, 1), padding=(1, 1))\n",
            "  (8): ReLU(inplace=True)\n",
            "  (9): MaxPool2d(kernel_size=2, stride=2, padding=0, dilation=1, ceil_mode=False)\n",
            "  (10): Conv2d(128, 256, kernel_size=(3, 3), stride=(1, 1), padding=(1, 1))\n",
            "  (11): ReLU(inplace=True)\n",
            "  (12): Conv2d(256, 256, kernel_size=(3, 3), stride=(1, 1), padding=(1, 1))\n",
            "  (13): ReLU(inplace=True)\n",
            "  (14): Conv2d(256, 256, kernel_size=(3, 3), stride=(1, 1), padding=(1, 1))\n",
            "  (15): ReLU(inplace=True)\n",
            "  (16): MaxPool2d(kernel_size=2, stride=2, padding=0, dilation=1, ceil_mode=False)\n",
            "  (17): Conv2d(256, 512, kernel_size=(3, 3), stride=(1, 1), padding=(1, 1))\n",
            "  (18): ReLU(inplace=True)\n",
            "  (19): Conv2d(512, 512, kernel_size=(3, 3), stride=(1, 1), padding=(1, 1))\n",
            "  (20): ReLU(inplace=True)\n",
            "  (21): Conv2d(512, 512, kernel_size=(3, 3), stride=(1, 1), padding=(1, 1))\n",
            "  (22): ReLU(inplace=True)\n",
            "  (23): MaxPool2d(kernel_size=2, stride=2, padding=0, dilation=1, ceil_mode=False)\n",
            "  (24): Conv2d(512, 512, kernel_size=(3, 3), stride=(1, 1), padding=(1, 1))\n",
            "  (25): ReLU(inplace=True)\n",
            "  (26): Conv2d(512, 512, kernel_size=(3, 3), stride=(1, 1), padding=(1, 1))\n",
            "  (27): ReLU(inplace=True)\n",
            "  (28): Conv2d(512, 512, kernel_size=(3, 3), stride=(1, 1), padding=(1, 1))\n",
            "  (29): ReLU(inplace=True)\n",
            "  (30): MaxPool2d(kernel_size=2, stride=2, padding=0, dilation=1, ceil_mode=False)\n",
            ")\n"
          ],
          "name": "stdout"
        }
      ]
    },
    {
      "cell_type": "code",
      "metadata": {
        "id": "P5yqUMGAyF6o",
        "colab_type": "code",
        "outputId": "1f713d8e-6207-45a4-e262-2417e674bfef",
        "colab": {
          "base_uri": "https://localhost:8080/",
          "height": 34
        }
      },
      "source": [
        "#for param in vgg16.features[0:-3].parameters(): for Only one Conv Layer i.e. Last Layer, Uncomment this loop\n",
        "'''\n",
        "for param in vgg16.features[0:-13].parameters():\n",
        "  param.requires_grad = False\n",
        "'''"
      ],
      "execution_count": 0,
      "outputs": [
        {
          "output_type": "execute_result",
          "data": {
            "text/plain": [
              "'\\nfor param in vgg16.features[0:-13].parameters():\\n  param.requires_grad = False\\n'"
            ]
          },
          "metadata": {
            "tags": []
          },
          "execution_count": 9
        }
      ]
    },
    {
      "cell_type": "code",
      "metadata": {
        "id": "HibD99Ux6oVq",
        "colab_type": "code",
        "outputId": "26d1546b-300e-4f3f-9bbf-2ad00925f2d0",
        "colab": {
          "base_uri": "https://localhost:8080/",
          "height": 459
        }
      },
      "source": [
        "for  param in vgg16.features.parameters():\n",
        "  print(param.requires_grad)"
      ],
      "execution_count": 0,
      "outputs": [
        {
          "output_type": "stream",
          "text": [
            "True\n",
            "True\n",
            "True\n",
            "True\n",
            "True\n",
            "True\n",
            "True\n",
            "True\n",
            "True\n",
            "True\n",
            "True\n",
            "True\n",
            "True\n",
            "True\n",
            "True\n",
            "True\n",
            "True\n",
            "True\n",
            "True\n",
            "True\n",
            "True\n",
            "True\n",
            "True\n",
            "True\n",
            "True\n",
            "True\n"
          ],
          "name": "stdout"
        }
      ]
    },
    {
      "cell_type": "code",
      "metadata": {
        "id": "iy9_Zonwbukp",
        "colab_type": "code",
        "colab": {}
      },
      "source": [
        "vgg16.classifier.parameters\n",
        "num_features = vgg16.classifier[6].in_features\n",
        "features = list(vgg16.classifier.children())[:-1] #Remove Last Layer\n",
        "\n",
        "#features.extend([nn.Linear(num_features, 550)])\n",
        "features.extend([nn.Linear(num_features, len(class_names))]) #Last output is 2. \n",
        "vgg16.classifier = nn.Sequential(*features)"
      ],
      "execution_count": 0,
      "outputs": []
    },
    {
      "cell_type": "code",
      "metadata": {
        "id": "XawOzyRfKnZu",
        "colab_type": "code",
        "colab": {}
      },
      "source": [
        "Epochs = 10\n",
        "criterion = nn.CrossEntropyLoss()\n",
        "optimizer = optim.SGD(vgg16.parameters(), lr=0.001, momentum=0.9)"
      ],
      "execution_count": 0,
      "outputs": []
    },
    {
      "cell_type": "code",
      "metadata": {
        "id": "9oXajlGfEx8y",
        "colab_type": "code",
        "colab": {}
      },
      "source": [
        "def validate(mdl,device):\n",
        "  correct = 0\n",
        "  total = 0\n",
        "  los=0\n",
        "  with torch.no_grad():\n",
        "      for data in validationloader:\n",
        "          images, labels = data\n",
        "          images, labels = images.to(device), labels.to(device)\n",
        "          outputs = mdl(images)\n",
        "          _, predicted = torch.max(outputs.data, 1)\n",
        "          total += labels.size(0)\n",
        "          correct += (predicted == labels).sum().item()\n",
        "          loss = criterion(outputs, labels)\n",
        "          los+=  loss.item()\n",
        "  \n",
        "  print('Accuracy of the network on the Validation images: %d %%' % (100 * correct / total))\n",
        "  print('Loss of the network on the Validation images:',los)\n",
        "  return los,correct / total\n"
      ],
      "execution_count": 0,
      "outputs": []
    },
    {
      "cell_type": "code",
      "metadata": {
        "id": "Sls-oxWbr4KQ",
        "colab_type": "code",
        "colab": {}
      },
      "source": [
        "def confusion_matrix(y_pred,y_true):\n",
        "  from sklearn.metrics import confusion_matrix\n",
        "  tn, fp, fn, tp=confusion_matrix(y_true,y_pred).ravel()\n",
        "  return tn, fp, fn, tp\n"
      ],
      "execution_count": 0,
      "outputs": []
    },
    {
      "cell_type": "code",
      "metadata": {
        "id": "SWSi2rlRL9sF",
        "colab_type": "code",
        "colab": {}
      },
      "source": [
        "def test(mdl,device):\n",
        "  correct = 0\n",
        "  total = 0\n",
        "  tst_loss_vect=[]\n",
        "  tst_accu_vect=[]\n",
        "  los=0\n",
        "  with torch.no_grad():\n",
        "      for data in testloader:\n",
        "          correc=0\n",
        "          ttl=0\n",
        "          images, labels = data\n",
        "          images, labels = images.to(device), labels.to(device)\n",
        "          outputs = mdl(images)\n",
        "          _, predicted = torch.max(outputs.data, 1)\n",
        "          ttl= labels.size(0)\n",
        "          total+=ttl\n",
        "          correc= (predicted == labels).sum().item()\n",
        "          correct+=correc\n",
        "          loss = criterion(outputs, labels)\n",
        "          tst_loss_vect.append(loss.item())\n",
        "          tst_accu_vect.append(correc/ttl)\n",
        "\n",
        "  print('Accuracy of the network on the test images: %d %%' % (\n",
        "      100 * correct / total))\n",
        "  return tst_loss_vect,tst_accu_vect"
      ],
      "execution_count": 0,
      "outputs": []
    },
    {
      "cell_type": "code",
      "metadata": {
        "id": "Fggqs8j4LQaC",
        "colab_type": "code",
        "colab": {}
      },
      "source": [
        "def train_validate_test(mdl):\n",
        "\n",
        "    from tqdm import tqdm\n",
        "\n",
        "    #if you have gpu then you need to convert the network and data to cuda\n",
        "    #the easiest way is to first check for device and then convert network and data to device\n",
        "    device = torch.device(\"cuda:0\" if torch.cuda.is_available() else \"cpu\")\n",
        "    mdl.to(device)\n",
        "\n",
        "    mdl.train()\n",
        "    tr_loss_vect=[]\n",
        "    tr_accu_vect=[]\n",
        "    val_loss_vect=[]\n",
        "    val_accu_vect=[]\n",
        "\n",
        "    for epoch in range(Epochs):  # loop over the dataset multiple times\n",
        "        correct = 0\n",
        "        running_loss = 0.0\n",
        "        pbar = tqdm(enumerate(trainloader))\n",
        "        for i, data in pbar:\n",
        "            # get the inputs\n",
        "            inputs, labels = data\n",
        "            inputs, labels = inputs.to(device), labels.to(device)\n",
        "\n",
        "            # zero the parameter gradients\n",
        "            optimizer.zero_grad()\n",
        "            # In PyTorch, we need to set the gradients to zero before starting to do backpropragation \n",
        "            # because PyTorch accumulates the gradients on subsequent backward passes. \n",
        "            # This is convenient while training RNNs. \n",
        "            # So, the default action is to accumulate the gradients on every loss.backward() call\n",
        "\n",
        "            # forward + backward + optimize\n",
        "            outputs = mdl(inputs)               #----> forward pass\n",
        "            loss = criterion(outputs, labels)   #----> compute loss\n",
        "            loss.backward()                     #----> backward pass\n",
        "            optimizer.step()                    #----> weights update\n",
        "\n",
        "            # print statistics\n",
        "            running_loss += loss.item()\n",
        "            \n",
        "            pbar.set_description(\n",
        "                'Train Epoch: {} [{}/{} ({:.0f}%)]\\tLoss: {:.6f}'.format(\n",
        "                    epoch, i * len(inputs), len(trainloader.dataset),\n",
        "                    100. * i / len(trainloader),\n",
        "                    loss.data.item()))\n",
        "        _, predicted = torch.max(outputs.data, 1)\n",
        "        correct = (predicted == labels).sum().item()\n",
        "        print('Accuracy of the network on the training images: %d %%' % (100 * correct / len(labels)))\n",
        "        if mdl==vgg16:\n",
        "          torch.save(mdl.state_dict(),'/content/gdrive/My Drive/vg166_entire.pth')\n",
        "        else:\n",
        "          torch.save(mdl.state_dict(),'/content/gdrive/My Drive/res18_entire.pth')\n",
        "        val_ls,val_ac=validate(mdl,device)\n",
        "        val_loss_vect.append(val_ls)\n",
        "        val_accu_vect.append(val_ac)\n",
        "        tr_loss_vect.append(running_loss)\n",
        "        tr_accu_vect.append(correct / len(labels))\n",
        "    print('Finished Training')\n",
        "    tst_loss_vect,tst_accu_vect=test(mdl,device)\n",
        "    return tr_loss_vect,tr_accu_vect,val_loss_vect,val_accu_vect,tst_loss_vect,tst_accu_vect"
      ],
      "execution_count": 0,
      "outputs": []
    },
    {
      "cell_type": "code",
      "metadata": {
        "id": "azi_Nh8gD9UX",
        "colab_type": "code",
        "outputId": "e83ee2fb-8430-463e-abef-be1e6bbbe745",
        "colab": {
          "base_uri": "https://localhost:8080/",
          "height": 731
        }
      },
      "source": [
        "tr_loss_vect,tr_accu_vect,val_loss_vect,val_accu_vect,tst_loss_vect,tst_accu_vect=train_validate_test(vgg16)"
      ],
      "execution_count": 17,
      "outputs": [
        {
          "output_type": "stream",
          "text": [
            "Train Epoch: 0 [11968/12000 (100%)]\tLoss: 0.112771: : 375it [01:51,  3.35it/s]\n"
          ],
          "name": "stderr"
        },
        {
          "output_type": "stream",
          "text": [
            "Accuracy of the network on the training images: 96 %\n",
            "Accuracy of the network on the Validation images: 89 %\n",
            "Loss of the network on the Validation images: 12.904381155967712\n"
          ],
          "name": "stdout"
        },
        {
          "output_type": "stream",
          "text": [
            "Train Epoch: 1 [11968/12000 (100%)]\tLoss: 0.322828: : 375it [01:52,  3.35it/s]\n"
          ],
          "name": "stderr"
        },
        {
          "output_type": "stream",
          "text": [
            "Accuracy of the network on the training images: 90 %\n",
            "Accuracy of the network on the Validation images: 90 %\n",
            "Loss of the network on the Validation images: 10.766844525933266\n"
          ],
          "name": "stdout"
        },
        {
          "output_type": "stream",
          "text": [
            "Train Epoch: 2 [11968/12000 (100%)]\tLoss: 0.249585: : 375it [01:53,  3.32it/s]\n"
          ],
          "name": "stderr"
        },
        {
          "output_type": "stream",
          "text": [
            "Accuracy of the network on the training images: 90 %\n",
            "Accuracy of the network on the Validation images: 89 %\n",
            "Loss of the network on the Validation images: 11.488988675177097\n"
          ],
          "name": "stdout"
        },
        {
          "output_type": "stream",
          "text": [
            "Train Epoch: 3 [11968/12000 (100%)]\tLoss: 0.180952: : 375it [01:52,  3.34it/s]\n"
          ],
          "name": "stderr"
        },
        {
          "output_type": "stream",
          "text": [
            "Accuracy of the network on the training images: 96 %\n",
            "Accuracy of the network on the Validation images: 90 %\n",
            "Loss of the network on the Validation images: 11.041363190859556\n"
          ],
          "name": "stdout"
        },
        {
          "output_type": "stream",
          "text": [
            "Train Epoch: 4 [11968/12000 (100%)]\tLoss: 0.179207: : 375it [01:52,  3.32it/s]\n"
          ],
          "name": "stderr"
        },
        {
          "output_type": "stream",
          "text": [
            "Accuracy of the network on the training images: 93 %\n",
            "Accuracy of the network on the Validation images: 91 %\n",
            "Loss of the network on the Validation images: 9.872334815561771\n"
          ],
          "name": "stdout"
        },
        {
          "output_type": "stream",
          "text": [
            "Train Epoch: 5 [11968/12000 (100%)]\tLoss: 0.230367: : 375it [01:52,  3.32it/s]\n"
          ],
          "name": "stderr"
        },
        {
          "output_type": "stream",
          "text": [
            "Accuracy of the network on the training images: 90 %\n",
            "Accuracy of the network on the Validation images: 91 %\n",
            "Loss of the network on the Validation images: 10.190734416246414\n"
          ],
          "name": "stdout"
        },
        {
          "output_type": "stream",
          "text": [
            "Train Epoch: 6 [11968/12000 (100%)]\tLoss: 0.125957: : 375it [01:52,  3.34it/s]\n"
          ],
          "name": "stderr"
        },
        {
          "output_type": "stream",
          "text": [
            "Accuracy of the network on the training images: 93 %\n",
            "Accuracy of the network on the Validation images: 91 %\n",
            "Loss of the network on the Validation images: 10.535614721477032\n"
          ],
          "name": "stdout"
        },
        {
          "output_type": "stream",
          "text": [
            "Train Epoch: 7 [11968/12000 (100%)]\tLoss: 0.154328: : 375it [01:52,  3.34it/s]\n"
          ],
          "name": "stderr"
        },
        {
          "output_type": "stream",
          "text": [
            "Accuracy of the network on the training images: 93 %\n",
            "Accuracy of the network on the Validation images: 91 %\n",
            "Loss of the network on the Validation images: 9.804625406861305\n"
          ],
          "name": "stdout"
        },
        {
          "output_type": "stream",
          "text": [
            "Train Epoch: 8 [11968/12000 (100%)]\tLoss: 0.071015: : 375it [01:52,  3.32it/s]\n"
          ],
          "name": "stderr"
        },
        {
          "output_type": "stream",
          "text": [
            "Accuracy of the network on the training images: 100 %\n",
            "Accuracy of the network on the Validation images: 91 %\n",
            "Loss of the network on the Validation images: 10.055631540715694\n"
          ],
          "name": "stdout"
        },
        {
          "output_type": "stream",
          "text": [
            "Train Epoch: 9 [11968/12000 (100%)]\tLoss: 0.102696: : 375it [01:52,  3.34it/s]\n"
          ],
          "name": "stderr"
        },
        {
          "output_type": "stream",
          "text": [
            "Accuracy of the network on the training images: 93 %\n",
            "Accuracy of the network on the Validation images: 91 %\n",
            "Loss of the network on the Validation images: 10.252245243638754\n",
            "Finished Training\n",
            "Accuracy of the network on the test images: 97 %\n"
          ],
          "name": "stdout"
        }
      ]
    },
    {
      "cell_type": "markdown",
      "metadata": {
        "id": "SWurVf4zEteI",
        "colab_type": "text"
      },
      "source": [
        "###VGG16 Training,Validation and Testing Curves "
      ]
    },
    {
      "cell_type": "code",
      "metadata": {
        "id": "LVE3Xt2pjEA5",
        "colab_type": "code",
        "colab": {
          "base_uri": "https://localhost:8080/",
          "height": 281
        },
        "outputId": "0fa0abd9-d3aa-4bb1-80c3-db5d4a17d1f9"
      },
      "source": [
        "plt.subplot(1,2,1)\n",
        "plt.title(\"Training Loss\")\n",
        "plt.plot(tr_loss_vect)\n",
        "plt.subplot(1,2,2)\n",
        "plt.title(\"Training Accuracy\")\n",
        "plt.plot(tr_accu_vect)\n",
        "plt.show()"
      ],
      "execution_count": 18,
      "outputs": [
        {
          "output_type": "display_data",
          "data": {
            "image/png": "[encoded data removed]",
            "text/plain": [
              "<Figure size 432x288 with 2 Axes>"
            ]
          },
          "metadata": {
            "tags": [],
            "needs_background": "light"
          }
        }
      ]
    },
    {
      "cell_type": "code",
      "metadata": {
        "id": "RtZbKXGOjW6X",
        "colab_type": "code",
        "colab": {
          "base_uri": "https://localhost:8080/",
          "height": 281
        },
        "outputId": "31c8d4eb-acf9-4a72-996e-0ae16e9cff6f"
      },
      "source": [
        "plt.subplot(1,2,1)\n",
        "plt.plot(val_loss_vect)\n",
        "plt.title(\"Validation Loss\")\n",
        "plt.subplot(1,2,2)\n",
        "plt.plot(val_accu_vect)\n",
        "plt.title(\"Validation Accuracy\")\n",
        "plt.show()"
      ],
      "execution_count": 19,
      "outputs": [
        {
          "output_type": "display_data",
          "data": {
            "image/png": "[encoded data removed]",
            "text/plain": [
              "<Figure size 432x288 with 2 Axes>"
            ]
          },
          "metadata": {
            "tags": [],
            "needs_background": "light"
          }
        }
      ]
    },
    {
      "cell_type": "code",
      "metadata": {
        "id": "2XERIfcK__vs",
        "colab_type": "code",
        "colab": {
          "base_uri": "https://localhost:8080/",
          "height": 281
        },
        "outputId": "bc637ab0-fe2b-4d9e-de1b-0f64769c6453"
      },
      "source": [
        "plt.subplot(1,2,1)\n",
        "plt.plot(tst_loss_vect)\n",
        "plt.title(\"Test Loss\")\n",
        "plt.subplot(1,2,2)\n",
        "plt.plot(tst_accu_vect)\n",
        "plt.title(\"Test Accuracy\")\n",
        "plt.show()"
      ],
      "execution_count": 20,
      "outputs": [
        {
          "output_type": "display_data",
          "data": {
            "image/png": "[encoded data removed]",
            "text/plain": [
              "<Figure size 432x288 with 2 Axes>"
            ]
          },
          "metadata": {
            "tags": [],
            "needs_background": "light"
          }
        }
      ]
    },
    {
      "cell_type": "code",
      "metadata": {
        "id": "clrSTopgj7U4",
        "colab_type": "code",
        "colab": {}
      },
      "source": [
        "def confusion_matrix(y_pred,y_true):\n",
        "  from sklearn.metrics import confusion_matrix\n",
        "  tn, fp, fn, tp=confusion_matrix(y_true,y_pred).ravel()\n",
        "  return tn, fp, fn, tp"
      ],
      "execution_count": 0,
      "outputs": []
    },
    {
      "cell_type": "code",
      "metadata": {
        "id": "gJVhDpGWRiOH",
        "colab_type": "code",
        "colab": {}
      },
      "source": [
        "def get_confusion_matrix(loader,mdl):\n",
        "    device= torch.device(\"cuda:0\" if torch.cuda.is_available() else \"cpu\")\n",
        "    tn1=0\n",
        "    tp1=0\n",
        "    fp1=0\n",
        "    fn1=0\n",
        "    with torch.no_grad():\n",
        "        for data in loader:\n",
        "            images, labels = data\n",
        "            images, labels = images.to(device), labels.to(device)\n",
        "            outputs = mdl(images)\n",
        "            _, predicted = torch.max(outputs.data, 1)\n",
        "            tn, fp, fn, tp=confusion_matrix(labels.cpu(),predicted.cpu())\n",
        "            tn1+=tn\n",
        "            tp1+=tp\n",
        "            fp1+=fp\n",
        "            fn1+=fn\n",
        "    print(\"The confusion matrix entries are as follows with gold labels\")\n",
        "    print(\"Tp =\",tp1)\n",
        "    print(\"Tn =\",tn1)\n",
        "    print(\"Fp =\",fp1)\n",
        "    print(\"Fn =\",fn1)\n",
        "    print(\"Accuracy = \", (tp1+tn1)/(tp1+tn1+fp1+fn1))\n",
        "    print(\"Precision =\", tp1/(tp1+fp1))\n",
        "    pre=tp1/(tp1+fp1)\n",
        "    recl=tp1/(tp1+fn1)\n",
        "    print(\"Recall =\",tp1/(tp1+fn1))\n",
        "    print(\"F1 Measure\",(2*pre*recl)/(pre+recl))\n",
        "    return"
      ],
      "execution_count": 0,
      "outputs": []
    },
    {
      "cell_type": "markdown",
      "metadata": {
        "id": "3uQg8YTkEmHw",
        "colab_type": "text"
      },
      "source": [
        "###VGG16 Confusion Matrix Values"
      ]
    },
    {
      "cell_type": "code",
      "metadata": {
        "id": "1mW02FNXVkq-",
        "colab_type": "code",
        "colab": {
          "base_uri": "https://localhost:8080/",
          "height": 527
        },
        "outputId": "4f9bff05-3aed-426b-eb44-9981e4d0011b"
      },
      "source": [
        "print(\"Confusion Matrix for Training Dataset\")\n",
        "get_confusion_matrix(trainloader,vgg16)\n",
        "print(\"Confusion Matrix for Testing Dataset\")\n",
        "get_confusion_matrix(testloader,vgg16)\n",
        "print(\"Confusion Matrix for Validation Dataset\")\n",
        "get_confusion_matrix(validationloader,vgg16)"
      ],
      "execution_count": 23,
      "outputs": [
        {
          "output_type": "stream",
          "text": [
            "Confusion Matrix for Training Dataset\n",
            "The confusion matrix entries are as follows with gold labels\n",
            "Tp = 6825\n",
            "Tn = 4304\n",
            "Fp = 256\n",
            "Fn = 615\n",
            "Accuracy =  0.9274166666666667\n",
            "Precision = 0.9638469142776444\n",
            "Recall = 0.9173387096774194\n",
            "F1 Measure 0.9400179051029542\n",
            "Confusion Matrix for Testing Dataset\n",
            "The confusion matrix entries are as follows with gold labels\n",
            "Tp = 878\n",
            "Tn = 582\n",
            "Fp = 7\n",
            "Fn = 33\n",
            "Accuracy =  0.9733333333333334\n",
            "Precision = 0.992090395480226\n",
            "Recall = 0.9637760702524698\n",
            "F1 Measure 0.9777282850779511\n",
            "Confusion Matrix for Validation Dataset\n",
            "The confusion matrix entries are as follows with gold labels\n",
            "Tp = 853\n",
            "Tn = 520\n",
            "Fp = 32\n",
            "Fn = 95\n",
            "Accuracy =  0.9153333333333333\n",
            "Precision = 0.9638418079096045\n",
            "Recall = 0.8997890295358649\n",
            "F1 Measure 0.9307146753955264\n"
          ],
          "name": "stdout"
        }
      ]
    },
    {
      "cell_type": "markdown",
      "metadata": {
        "id": "G6UqmSrSB71n",
        "colab_type": "text"
      },
      "source": [
        "### Resnet 18 Code will start from here"
      ]
    },
    {
      "cell_type": "code",
      "metadata": {
        "id": "MBr_riNNCE6e",
        "colab_type": "code",
        "colab": {
          "base_uri": "https://localhost:8080/",
          "height": 103,
          "referenced_widgets": [
            "34c1a43c06e04ba8a6b30108eaf6877b",
            "6774c8e5a98f4934bf762745cf05cfb2",
            "e808c619f2d440a69f36985828511450",
            "e0bb5ea1e81743c5853e83a3f3c7640f",
            "8e1634fcb22144e68fc3d9e99494fc7d",
            "1c312adae00741dea9d3f03e7bcc6d0b",
            "915e1bd620ad4db28af06dc7cd6f1162",
            "3413b0123b894e2592f2f6a9aa92c5ad"
          ]
        },
        "outputId": "127f62ea-631c-49f6-f215-00583c3c0a9e"
      },
      "source": [
        "res18 = models.resnet18(pretrained=True)\n",
        "\n",
        "'''for param in res18.parameters():   ### Freezing All layers\n",
        "    param.requires_grad = False\n",
        "'''\n",
        "\n",
        "num_features=res18.fc.in_features\n",
        "\n",
        "features = list(res18.fc.children())[:-1]\n",
        "\n",
        "features.extend([nn.Linear(num_features, len(class_names))])\n",
        "res18.fc=nn.Sequential(*features)"
      ],
      "execution_count": 24,
      "outputs": [
        {
          "output_type": "stream",
          "text": [
            "Downloading: \"https://download.pytorch.org/models/resnet18-5c106cde.pth\" to /root/.cache/torch/checkpoints/resnet18-5c106cde.pth\n"
          ],
          "name": "stderr"
        },
        {
          "output_type": "display_data",
          "data": {
            "application/vnd.jupyter.widget-view+json": {
              "model_id": "34c1a43c06e04ba8a6b30108eaf6877b",
              "version_minor": 0,
              "version_major": 2
            },
            "text/plain": [
              "HBox(children=(IntProgress(value=0, max=46827520), HTML(value='')))"
            ]
          },
          "metadata": {
            "tags": []
          }
        },
        {
          "output_type": "stream",
          "text": [
            "\n"
          ],
          "name": "stdout"
        }
      ]
    },
    {
      "cell_type": "code",
      "metadata": {
        "id": "zldZA3_dQ-8z",
        "colab_type": "code",
        "colab": {
          "base_uri": "https://localhost:8080/",
          "height": 1000
        },
        "outputId": "879e7c88-68e5-4a2f-ea28-d94182518fab"
      },
      "source": [
        "print(res18)"
      ],
      "execution_count": 25,
      "outputs": [
        {
          "output_type": "stream",
          "text": [
            "ResNet(\n",
            "  (conv1): Conv2d(3, 64, kernel_size=(7, 7), stride=(2, 2), padding=(3, 3), bias=False)\n",
            "  (bn1): BatchNorm2d(64, eps=1e-05, momentum=0.1, affine=True, track_running_stats=True)\n",
            "  (relu): ReLU(inplace=True)\n",
            "  (maxpool): MaxPool2d(kernel_size=3, stride=2, padding=1, dilation=1, ceil_mode=False)\n",
            "  (layer1): Sequential(\n",
            "    (0): BasicBlock(\n",
            "      (conv1): Conv2d(64, 64, kernel_size=(3, 3), stride=(1, 1), padding=(1, 1), bias=False)\n",
            "      (bn1): BatchNorm2d(64, eps=1e-05, momentum=0.1, affine=True, track_running_stats=True)\n",
            "      (relu): ReLU(inplace=True)\n",
            "      (conv2): Conv2d(64, 64, kernel_size=(3, 3), stride=(1, 1), padding=(1, 1), bias=False)\n",
            "      (bn2): BatchNorm2d(64, eps=1e-05, momentum=0.1, affine=True, track_running_stats=True)\n",
            "    )\n",
            "    (1): BasicBlock(\n",
            "      (conv1): Conv2d(64, 64, kernel_size=(3, 3), stride=(1, 1), padding=(1, 1), bias=False)\n",
            "      (bn1): BatchNorm2d(64, eps=1e-05, momentum=0.1, affine=True, track_running_stats=True)\n",
            "      (relu): ReLU(inplace=True)\n",
            "      (conv2): Conv2d(64, 64, kernel_size=(3, 3), stride=(1, 1), padding=(1, 1), bias=False)\n",
            "      (bn2): BatchNorm2d(64, eps=1e-05, momentum=0.1, affine=True, track_running_stats=True)\n",
            "    )\n",
            "  )\n",
            "  (layer2): Sequential(\n",
            "    (0): BasicBlock(\n",
            "      (conv1): Conv2d(64, 128, kernel_size=(3, 3), stride=(2, 2), padding=(1, 1), bias=False)\n",
            "      (bn1): BatchNorm2d(128, eps=1e-05, momentum=0.1, affine=True, track_running_stats=True)\n",
            "      (relu): ReLU(inplace=True)\n",
            "      (conv2): Conv2d(128, 128, kernel_size=(3, 3), stride=(1, 1), padding=(1, 1), bias=False)\n",
            "      (bn2): BatchNorm2d(128, eps=1e-05, momentum=0.1, affine=True, track_running_stats=True)\n",
            "      (downsample): Sequential(\n",
            "        (0): Conv2d(64, 128, kernel_size=(1, 1), stride=(2, 2), bias=False)\n",
            "        (1): BatchNorm2d(128, eps=1e-05, momentum=0.1, affine=True, track_running_stats=True)\n",
            "      )\n",
            "    )\n",
            "    (1): BasicBlock(\n",
            "      (conv1): Conv2d(128, 128, kernel_size=(3, 3), stride=(1, 1), padding=(1, 1), bias=False)\n",
            "      (bn1): BatchNorm2d(128, eps=1e-05, momentum=0.1, affine=True, track_running_stats=True)\n",
            "      (relu): ReLU(inplace=True)\n",
            "      (conv2): Conv2d(128, 128, kernel_size=(3, 3), stride=(1, 1), padding=(1, 1), bias=False)\n",
            "      (bn2): BatchNorm2d(128, eps=1e-05, momentum=0.1, affine=True, track_running_stats=True)\n",
            "    )\n",
            "  )\n",
            "  (layer3): Sequential(\n",
            "    (0): BasicBlock(\n",
            "      (conv1): Conv2d(128, 256, kernel_size=(3, 3), stride=(2, 2), padding=(1, 1), bias=False)\n",
            "      (bn1): BatchNorm2d(256, eps=1e-05, momentum=0.1, affine=True, track_running_stats=True)\n",
            "      (relu): ReLU(inplace=True)\n",
            "      (conv2): Conv2d(256, 256, kernel_size=(3, 3), stride=(1, 1), padding=(1, 1), bias=False)\n",
            "      (bn2): BatchNorm2d(256, eps=1e-05, momentum=0.1, affine=True, track_running_stats=True)\n",
            "      (downsample): Sequential(\n",
            "        (0): Conv2d(128, 256, kernel_size=(1, 1), stride=(2, 2), bias=False)\n",
            "        (1): BatchNorm2d(256, eps=1e-05, momentum=0.1, affine=True, track_running_stats=True)\n",
            "      )\n",
            "    )\n",
            "    (1): BasicBlock(\n",
            "      (conv1): Conv2d(256, 256, kernel_size=(3, 3), stride=(1, 1), padding=(1, 1), bias=False)\n",
            "      (bn1): BatchNorm2d(256, eps=1e-05, momentum=0.1, affine=True, track_running_stats=True)\n",
            "      (relu): ReLU(inplace=True)\n",
            "      (conv2): Conv2d(256, 256, kernel_size=(3, 3), stride=(1, 1), padding=(1, 1), bias=False)\n",
            "      (bn2): BatchNorm2d(256, eps=1e-05, momentum=0.1, affine=True, track_running_stats=True)\n",
            "    )\n",
            "  )\n",
            "  (layer4): Sequential(\n",
            "    (0): BasicBlock(\n",
            "      (conv1): Conv2d(256, 512, kernel_size=(3, 3), stride=(2, 2), padding=(1, 1), bias=False)\n",
            "      (bn1): BatchNorm2d(512, eps=1e-05, momentum=0.1, affine=True, track_running_stats=True)\n",
            "      (relu): ReLU(inplace=True)\n",
            "      (conv2): Conv2d(512, 512, kernel_size=(3, 3), stride=(1, 1), padding=(1, 1), bias=False)\n",
            "      (bn2): BatchNorm2d(512, eps=1e-05, momentum=0.1, affine=True, track_running_stats=True)\n",
            "      (downsample): Sequential(\n",
            "        (0): Conv2d(256, 512, kernel_size=(1, 1), stride=(2, 2), bias=False)\n",
            "        (1): BatchNorm2d(512, eps=1e-05, momentum=0.1, affine=True, track_running_stats=True)\n",
            "      )\n",
            "    )\n",
            "    (1): BasicBlock(\n",
            "      (conv1): Conv2d(512, 512, kernel_size=(3, 3), stride=(1, 1), padding=(1, 1), bias=False)\n",
            "      (bn1): BatchNorm2d(512, eps=1e-05, momentum=0.1, affine=True, track_running_stats=True)\n",
            "      (relu): ReLU(inplace=True)\n",
            "      (conv2): Conv2d(512, 512, kernel_size=(3, 3), stride=(1, 1), padding=(1, 1), bias=False)\n",
            "      (bn2): BatchNorm2d(512, eps=1e-05, momentum=0.1, affine=True, track_running_stats=True)\n",
            "    )\n",
            "  )\n",
            "  (avgpool): AdaptiveAvgPool2d(output_size=(1, 1))\n",
            "  (fc): Sequential(\n",
            "    (0): Linear(in_features=512, out_features=2, bias=True)\n",
            "  )\n",
            ")\n"
          ],
          "name": "stdout"
        }
      ]
    },
    {
      "cell_type": "code",
      "metadata": {
        "id": "w9W-y-GgOK10",
        "colab_type": "code",
        "colab": {
          "base_uri": "https://localhost:8080/",
          "height": 54
        },
        "outputId": "5000b100-efbc-4bda-f15a-e7a3bc1a84e7"
      },
      "source": [
        "'''for param in res18.layer4.parameters():   #Layer 4,ConvS ARE unfreezed\n",
        "  param.requires_grad=True\n",
        "for param in res18.layer3.parameters():   #Layer 3, ConvS ARE unfreezed\n",
        "  param.requires_grad=True\n",
        "'''\n"
      ],
      "execution_count": 26,
      "outputs": [
        {
          "output_type": "execute_result",
          "data": {
            "text/plain": [
              "'for param in res18.layer4.parameters():   #Layer 4,ConvS ARE unfreezed\\n  param.requires_grad=True\\nfor param in res18.layer3.parameters():   #Layer 3, ConvS ARE unfreezed\\n  param.requires_grad=True\\n'"
            ]
          },
          "metadata": {
            "tags": []
          },
          "execution_count": 26
        }
      ]
    },
    {
      "cell_type": "code",
      "metadata": {
        "id": "SBHpdNfqi_b1",
        "colab_type": "code",
        "colab": {
          "base_uri": "https://localhost:8080/",
          "height": 1000
        },
        "outputId": "e529e6dc-d3dd-42ed-df78-5220f0b16297"
      },
      "source": [
        "for param in res18.parameters():\n",
        "  print(param.requires_grad)"
      ],
      "execution_count": 27,
      "outputs": [
        {
          "output_type": "stream",
          "text": [
            "True\n",
            "True\n",
            "True\n",
            "True\n",
            "True\n",
            "True\n",
            "True\n",
            "True\n",
            "True\n",
            "True\n",
            "True\n",
            "True\n",
            "True\n",
            "True\n",
            "True\n",
            "True\n",
            "True\n",
            "True\n",
            "True\n",
            "True\n",
            "True\n",
            "True\n",
            "True\n",
            "True\n",
            "True\n",
            "True\n",
            "True\n",
            "True\n",
            "True\n",
            "True\n",
            "True\n",
            "True\n",
            "True\n",
            "True\n",
            "True\n",
            "True\n",
            "True\n",
            "True\n",
            "True\n",
            "True\n",
            "True\n",
            "True\n",
            "True\n",
            "True\n",
            "True\n",
            "True\n",
            "True\n",
            "True\n",
            "True\n",
            "True\n",
            "True\n",
            "True\n",
            "True\n",
            "True\n",
            "True\n",
            "True\n",
            "True\n",
            "True\n",
            "True\n",
            "True\n",
            "True\n",
            "True\n"
          ],
          "name": "stdout"
        }
      ]
    },
    {
      "cell_type": "code",
      "metadata": {
        "id": "uBtgoaZzCYKw",
        "colab_type": "code",
        "colab": {}
      },
      "source": [
        "Epochs = 10\n",
        "criterion = nn.CrossEntropyLoss()\n",
        "optimizer = optim.SGD(res18.parameters(), lr=0.001, momentum=0.9)"
      ],
      "execution_count": 0,
      "outputs": []
    },
    {
      "cell_type": "code",
      "metadata": {
        "id": "KAnB5i9oChsE",
        "colab_type": "code",
        "colab": {
          "base_uri": "https://localhost:8080/",
          "height": 731
        },
        "outputId": "4bb93aba-0359-4bf9-adb4-8b51f14656d2"
      },
      "source": [
        "tr_loss_vect,tr_accu_vect,val_loss_vect,val_accu_vect,tst_loss_vect,tst_accu_vect=train_validate_test(res18)"
      ],
      "execution_count": 29,
      "outputs": [
        {
          "output_type": "stream",
          "text": [
            "Train Epoch: 0 [11968/12000 (100%)]\tLoss: 0.348800: : 375it [01:38,  3.83it/s]\n"
          ],
          "name": "stderr"
        },
        {
          "output_type": "stream",
          "text": [
            "Accuracy of the network on the training images: 81 %\n",
            "Accuracy of the network on the Validation images: 87 %\n",
            "Loss of the network on the Validation images: 14.959179401397705\n"
          ],
          "name": "stdout"
        },
        {
          "output_type": "stream",
          "text": [
            "Train Epoch: 1 [11968/12000 (100%)]\tLoss: 0.204380: : 375it [01:37,  3.83it/s]\n"
          ],
          "name": "stderr"
        },
        {
          "output_type": "stream",
          "text": [
            "Accuracy of the network on the training images: 93 %\n",
            "Accuracy of the network on the Validation images: 89 %\n",
            "Loss of the network on the Validation images: 12.672660198062658\n"
          ],
          "name": "stdout"
        },
        {
          "output_type": "stream",
          "text": [
            "Train Epoch: 2 [11968/12000 (100%)]\tLoss: 0.208020: : 375it [01:36,  3.88it/s]\n"
          ],
          "name": "stderr"
        },
        {
          "output_type": "stream",
          "text": [
            "Accuracy of the network on the training images: 93 %\n",
            "Accuracy of the network on the Validation images: 90 %\n",
            "Loss of the network on the Validation images: 11.357246652245522\n"
          ],
          "name": "stdout"
        },
        {
          "output_type": "stream",
          "text": [
            "Train Epoch: 3 [11968/12000 (100%)]\tLoss: 0.280914: : 375it [01:36,  3.88it/s]\n"
          ],
          "name": "stderr"
        },
        {
          "output_type": "stream",
          "text": [
            "Accuracy of the network on the training images: 90 %\n",
            "Accuracy of the network on the Validation images: 89 %\n",
            "Loss of the network on the Validation images: 13.299190003424883\n"
          ],
          "name": "stdout"
        },
        {
          "output_type": "stream",
          "text": [
            "Train Epoch: 4 [11968/12000 (100%)]\tLoss: 0.197528: : 375it [01:36,  3.87it/s]\n"
          ],
          "name": "stderr"
        },
        {
          "output_type": "stream",
          "text": [
            "Accuracy of the network on the training images: 90 %\n",
            "Accuracy of the network on the Validation images: 90 %\n",
            "Loss of the network on the Validation images: 11.17546059563756\n"
          ],
          "name": "stdout"
        },
        {
          "output_type": "stream",
          "text": [
            "Train Epoch: 5 [11968/12000 (100%)]\tLoss: 0.170313: : 375it [01:37,  3.86it/s]\n"
          ],
          "name": "stderr"
        },
        {
          "output_type": "stream",
          "text": [
            "Accuracy of the network on the training images: 90 %\n",
            "Accuracy of the network on the Validation images: 90 %\n",
            "Loss of the network on the Validation images: 10.889871574938297\n"
          ],
          "name": "stdout"
        },
        {
          "output_type": "stream",
          "text": [
            "Train Epoch: 6 [11968/12000 (100%)]\tLoss: 0.220365: : 375it [01:38,  3.82it/s]\n"
          ],
          "name": "stderr"
        },
        {
          "output_type": "stream",
          "text": [
            "Accuracy of the network on the training images: 87 %\n",
            "Accuracy of the network on the Validation images: 89 %\n",
            "Loss of the network on the Validation images: 11.57038363814354\n"
          ],
          "name": "stdout"
        },
        {
          "output_type": "stream",
          "text": [
            "Train Epoch: 7 [11968/12000 (100%)]\tLoss: 0.142256: : 375it [01:40,  3.72it/s]\n"
          ],
          "name": "stderr"
        },
        {
          "output_type": "stream",
          "text": [
            "Accuracy of the network on the training images: 90 %\n",
            "Accuracy of the network on the Validation images: 90 %\n",
            "Loss of the network on the Validation images: 10.715760622173548\n"
          ],
          "name": "stdout"
        },
        {
          "output_type": "stream",
          "text": [
            "Train Epoch: 8 [11968/12000 (100%)]\tLoss: 0.202406: : 375it [01:37,  3.86it/s]\n"
          ],
          "name": "stderr"
        },
        {
          "output_type": "stream",
          "text": [
            "Accuracy of the network on the training images: 90 %\n",
            "Accuracy of the network on the Validation images: 89 %\n",
            "Loss of the network on the Validation images: 12.073992617428303\n"
          ],
          "name": "stdout"
        },
        {
          "output_type": "stream",
          "text": [
            "Train Epoch: 9 [11968/12000 (100%)]\tLoss: 0.178284: : 375it [01:37,  3.86it/s]\n"
          ],
          "name": "stderr"
        },
        {
          "output_type": "stream",
          "text": [
            "Accuracy of the network on the training images: 93 %\n",
            "Accuracy of the network on the Validation images: 91 %\n",
            "Loss of the network on the Validation images: 10.506027175113559\n",
            "Finished Training\n",
            "Accuracy of the network on the test images: 96 %\n"
          ],
          "name": "stdout"
        }
      ]
    },
    {
      "cell_type": "code",
      "metadata": {
        "id": "L6qCtp9XJcYS",
        "colab_type": "code",
        "colab": {
          "base_uri": "https://localhost:8080/",
          "height": 281
        },
        "outputId": "5d3191f8-4b1f-46db-c22b-4e9c8e0b99a9"
      },
      "source": [
        "plt.subplot(1,2,1)\n",
        "plt.title(\"Training Loss\")\n",
        "plt.plot(tr_loss_vect)\n",
        "plt.subplot(1,2,2)\n",
        "plt.title(\"Training Accuracy\")\n",
        "plt.plot(tr_accu_vect)\n",
        "plt.show()"
      ],
      "execution_count": 30,
      "outputs": [
        {
          "output_type": "display_data",
          "data": {
            "image/png": "[encoded data removed]",
            "text/plain": [
              "<Figure size 432x288 with 2 Axes>"
            ]
          },
          "metadata": {
            "tags": [],
            "needs_background": "light"
          }
        }
      ]
    },
    {
      "cell_type": "code",
      "metadata": {
        "id": "jukeptlOJdLU",
        "colab_type": "code",
        "colab": {
          "base_uri": "https://localhost:8080/",
          "height": 281
        },
        "outputId": "2838dc59-63db-44ff-c6a5-f16fcb3269cb"
      },
      "source": [
        "plt.subplot(1,2,1)\n",
        "plt.plot(val_loss_vect)\n",
        "plt.title(\"Validation Loss\")\n",
        "plt.subplot(1,2,2)\n",
        "plt.plot(val_accu_vect)\n",
        "plt.title(\"Validation Accuracy\")\n",
        "plt.show()"
      ],
      "execution_count": 31,
      "outputs": [
        {
          "output_type": "display_data",
          "data": {
            "image/png": "[encoded data removed]",
            "text/plain": [
              "<Figure size 432x288 with 2 Axes>"
            ]
          },
          "metadata": {
            "tags": [],
            "needs_background": "light"
          }
        }
      ]
    },
    {
      "cell_type": "code",
      "metadata": {
        "id": "vonMRZw8JhIG",
        "colab_type": "code",
        "colab": {
          "base_uri": "https://localhost:8080/",
          "height": 281
        },
        "outputId": "44b3cb23-4d06-4b62-abde-061894f17564"
      },
      "source": [
        "plt.subplot(1,2,1)\n",
        "plt.plot(tst_loss_vect)\n",
        "plt.title(\"Test Loss\")\n",
        "plt.subplot(1,2,2)\n",
        "plt.plot(tst_accu_vect)\n",
        "plt.title(\"Test Accuracy\")\n",
        "plt.show()"
      ],
      "execution_count": 32,
      "outputs": [
        {
          "output_type": "display_data",
          "data": {
            "image/png": "[encoded data removed]",
            "text/plain": [
              "<Figure size 432x288 with 2 Axes>"
            ]
          },
          "metadata": {
            "tags": [],
            "needs_background": "light"
          }
        }
      ]
    },
    {
      "cell_type": "code",
      "metadata": {
        "id": "fxOYhLEdJq7k",
        "colab_type": "code",
        "colab": {
          "base_uri": "https://localhost:8080/",
          "height": 527
        },
        "outputId": "78433bf1-b0f6-4e31-f4e0-85215c08d785"
      },
      "source": [
        "print(\"Confusion Matrix for Training Dataset\")\n",
        "get_confusion_matrix(trainloader,res18)\n",
        "print(\"Confusion Matrix for Testing Dataset\")\n",
        "get_confusion_matrix(testloader,res18)\n",
        "print(\"Confusion Matrix for Validation Dataset\")\n",
        "get_confusion_matrix(validationloader,res18)"
      ],
      "execution_count": 33,
      "outputs": [
        {
          "output_type": "stream",
          "text": [
            "Confusion Matrix for Training Dataset\n",
            "The confusion matrix entries are as follows with gold labels\n",
            "Tp = 6634\n",
            "Tn = 4429\n",
            "Fp = 447\n",
            "Fn = 490\n",
            "Accuracy =  0.9219166666666667\n",
            "Precision = 0.9368733229769807\n",
            "Recall = 0.9312184166198765\n",
            "F1 Measure 0.9340373108060541\n",
            "Confusion Matrix for Testing Dataset\n",
            "The confusion matrix entries are as follows with gold labels\n",
            "Tp = 865\n",
            "Tn = 585\n",
            "Fp = 20\n",
            "Fn = 30\n",
            "Accuracy =  0.9666666666666667\n",
            "Precision = 0.9774011299435028\n",
            "Recall = 0.9664804469273743\n",
            "F1 Measure 0.9719101123595506\n",
            "Confusion Matrix for Validation Dataset\n",
            "The confusion matrix entries are as follows with gold labels\n",
            "Tp = 805\n",
            "Tn = 557\n",
            "Fp = 80\n",
            "Fn = 58\n",
            "Accuracy =  0.908\n",
            "Precision = 0.9096045197740112\n",
            "Recall = 0.93279258400927\n",
            "F1 Measure 0.9210526315789473\n"
          ],
          "name": "stdout"
        }
      ]
    },
    {
      "cell_type": "code",
      "metadata": {
        "id": "3nJwalu6hokO",
        "colab_type": "code",
        "colab": {}
      },
      "source": [
        ""
      ],
      "execution_count": 0,
      "outputs": []
    }
  ]
}