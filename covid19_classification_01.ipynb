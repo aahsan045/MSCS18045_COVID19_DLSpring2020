{
  "nbformat": 4,
  "nbformat_minor": 0,
  "metadata": {
    "colab": {
      "name": "Assign_5_part1_FC_Only.ipynb",
      "provenance": [],
      "collapsed_sections": [],
      "machine_shape": "hm"
    },
    "kernelspec": {
      "name": "python3",
      "display_name": "Python 3"
    },
    "accelerator": "GPU"
  },
  "cells": [
    {
      "cell_type": "code",
      "metadata": {
        "id": "vwFFx_dxY9nz",
        "colab_type": "code",
        "colab": {}
      },
      "source": [
        "import torch\n",
        "import torch.nn as nn\n",
        "import torch.optim as optim\n",
        "from torch.optim import lr_scheduler\n",
        "from torch.autograd import Variable\n",
        "import numpy as np\n",
        "import torchvision\n",
        "from torchvision import datasets, models, transforms\n",
        "import matplotlib.pyplot as plt\n",
        "import time\n",
        "import os\n",
        "import copy"
      ],
      "execution_count": 0,
      "outputs": []
    },
    {
      "cell_type": "code",
      "metadata": {
        "id": "BIqBJYfmqEjs",
        "colab_type": "code",
        "colab": {}
      },
      "source": [
        "#!unzip \"/content/drive/My Drive/Assignment 5 Dataset.zip\""
      ],
      "execution_count": 0,
      "outputs": []
    },
    {
      "cell_type": "code",
      "metadata": {
        "id": "XfTKCCN0ZCMs",
        "colab_type": "code",
        "colab": {}
      },
      "source": [
        "data_dir = '/content/Assignment 5 Dataset'"
      ],
      "execution_count": 0,
      "outputs": []
    },
    {
      "cell_type": "code",
      "metadata": {
        "id": "aDQKyAhkaTSj",
        "colab_type": "code",
        "outputId": "2d7273a2-3fda-4e51-867c-896cda076c3a",
        "colab": {
          "base_uri": "https://localhost:8080/",
          "height": 51
        }
      },
      "source": [
        "train_transforms = transforms.Compose([transforms.RandomRotation(30),\n",
        "                                       transforms.RandomResizedCrop(224),\n",
        "                                       transforms.RandomHorizontalFlip(),\n",
        "                                       transforms.ToTensor(),\n",
        "                                       transforms.Normalize([0.485, 0.456, 0.406],\n",
        "                                                            [0.229, 0.224, 0.225])])\n",
        "\n",
        "test_transforms = transforms.Compose([transforms.Resize(256),\n",
        "                                      transforms.CenterCrop(224),\n",
        "                                      transforms.ToTensor(),\n",
        "                                      transforms.Normalize([0.485, 0.456, 0.406],\n",
        "                                                           [0.229, 0.224, 0.225])])\n",
        "\n",
        "#pass transform here-in\n",
        "train_data = datasets.ImageFolder(data_dir + '/train', transform=train_transforms)\n",
        "validation_data=datasets.ImageFolder(data_dir + '/validation', transform=test_transforms)  ##Train-Transform to the Validation data also\n",
        "test_data = datasets.ImageFolder(data_dir + '/test', transform=test_transforms)\n",
        "\n",
        "#data loaders\n",
        "trainloader = torch.utils.data.DataLoader(train_data, batch_size=128, shuffle=True,num_workers=8)\n",
        "validationloader = torch.utils.data.DataLoader(validation_data, batch_size=128, shuffle=True,num_workers=8)\n",
        "testloader = torch.utils.data.DataLoader(test_data, batch_size=128, shuffle=True,num_workers=8)\n",
        "\n",
        "print(\"Classes: \")\n",
        "class_names = train_data.classes\n",
        "print(class_names)"
      ],
      "execution_count": 31,
      "outputs": [
        {
          "output_type": "stream",
          "text": [
            "Classes: \n",
            "['infected', 'normal']\n"
          ],
          "name": "stdout"
        }
      ]
    },
    {
      "cell_type": "code",
      "metadata": {
        "id": "Ah6yn9VObQ3Z",
        "colab_type": "code",
        "outputId": "4e29e230-846d-4c14-a1f1-43e8b7b4f1e0",
        "colab": {
          "base_uri": "https://localhost:8080/",
          "height": 54
        }
      },
      "source": [
        "'''\n",
        "def imshow(inp, title=None):\n",
        "    inp = inp.numpy().transpose((1, 2, 0))\n",
        "    plt.axis('off')\n",
        "    plt.imshow(inp)\n",
        "    if title is not None:\n",
        "        plt.title(title)\n",
        "    plt.pause(0.001)\n",
        "\n",
        "def show_databatch(inputs, classes):\n",
        "    out = torchvision.utils.make_grid(inputs)\n",
        "    imshow(out, title=[class_names[x] for x in classes])\n",
        "\n",
        "# Get a batch of training data\n",
        "inputs, classes = next(iter(trainloader))\n",
        "show_databatch(inputs, classes)\n",
        "'''"
      ],
      "execution_count": 5,
      "outputs": [
        {
          "output_type": "execute_result",
          "data": {
            "text/plain": [
              "\"\\ndef imshow(inp, title=None):\\n    inp = inp.numpy().transpose((1, 2, 0))\\n    plt.axis('off')\\n    plt.imshow(inp)\\n    if title is not None:\\n        plt.title(title)\\n    plt.pause(0.001)\\n\\ndef show_databatch(inputs, classes):\\n    out = torchvision.utils.make_grid(inputs)\\n    imshow(out, title=[class_names[x] for x in classes])\\n\\n# Get a batch of training data\\ninputs, classes = next(iter(trainloader))\\nshow_databatch(inputs, classes)\\n\""
            ]
          },
          "metadata": {
            "tags": []
          },
          "execution_count": 5
        }
      ]
    },
    {
      "cell_type": "code",
      "metadata": {
        "id": "iy9_Zonwbukp",
        "colab_type": "code",
        "colab": {}
      },
      "source": [
        "vgg16 = models.vgg16(pretrained=True)\n",
        "\n",
        "for param in vgg16.features.parameters():\n",
        "    param.requires_grad = False\n",
        "num_features = vgg16.classifier[6].in_features\n",
        "features = list(vgg16.classifier.children())[:-1] #Remove Last Layer\n",
        "\n",
        "features.extend([nn.Linear(num_features, 550)])\n",
        "features.extend([nn.Linear(550, len(class_names))]) #Last output is 2. \n",
        "vgg16.classifier = nn.Sequential(*features)"
      ],
      "execution_count": 0,
      "outputs": []
    },
    {
      "cell_type": "code",
      "metadata": {
        "id": "XawOzyRfKnZu",
        "colab_type": "code",
        "colab": {}
      },
      "source": [
        "Epochs = 10\n",
        "criterion = nn.CrossEntropyLoss()\n",
        "optimizer = optim.SGD(vgg16.parameters(), lr=0.001, momentum=0.9)"
      ],
      "execution_count": 0,
      "outputs": []
    },
    {
      "cell_type": "code",
      "metadata": {
        "id": "9oXajlGfEx8y",
        "colab_type": "code",
        "colab": {}
      },
      "source": [
        "def validate(mdl,device):\n",
        "  correct = 0\n",
        "  total = 0\n",
        "  los=0\n",
        "  with torch.no_grad():\n",
        "      for data in validationloader:\n",
        "          images, labels = data\n",
        "          images, labels = images.to(device), labels.to(device)\n",
        "          outputs = mdl(images)\n",
        "          _, predicted = torch.max(outputs.data, 1)\n",
        "          total += labels.size(0)\n",
        "          correct += (predicted == labels).sum().item()\n",
        "          loss = criterion(outputs, labels)\n",
        "          los+=  loss.item()\n",
        "  \n",
        "  print('Accuracy of the network on the Validation images: %d %%' % (100 * correct / total))\n",
        "  print('Loss of the network on the Validation images:',los)\n",
        "  return los,correct / total\n"
      ],
      "execution_count": 0,
      "outputs": []
    },
    {
      "cell_type": "code",
      "metadata": {
        "id": "Sls-oxWbr4KQ",
        "colab_type": "code",
        "colab": {}
      },
      "source": [
        "def confusion_matrix(y_pred,y_true):\n",
        "  from sklearn.metrics import confusion_matrix\n",
        "  tn, fp, fn, tp=confusion_matrix(y_true,y_pred).ravel()\n",
        "  return tn, fp, fn, tp\n"
      ],
      "execution_count": 0,
      "outputs": []
    },
    {
      "cell_type": "code",
      "metadata": {
        "id": "SWSi2rlRL9sF",
        "colab_type": "code",
        "colab": {}
      },
      "source": [
        "def test(mdl,device):\n",
        "  correct = 0\n",
        "  total = 0\n",
        "  tst_loss_vect=[]\n",
        "  tst_accu_vect=[]\n",
        "  los=0\n",
        "  with torch.no_grad():\n",
        "      for data in testloader:\n",
        "          correc=0\n",
        "          ttl=0\n",
        "          images, labels = data\n",
        "          images, labels = images.to(device), labels.to(device)\n",
        "          outputs = mdl(images)\n",
        "          _, predicted = torch.max(outputs.data, 1)\n",
        "          ttl= labels.size(0)\n",
        "          total+=ttl\n",
        "          correc= (predicted == labels).sum().item()\n",
        "          correct+=correc\n",
        "          loss = criterion(outputs, labels)\n",
        "          tst_loss_vect.append(loss.item())\n",
        "          tst_accu_vect.append(correc/ttl)\n",
        "\n",
        "  print('Accuracy of the network on the test images: %d %%' % (\n",
        "      100 * correct / total))\n",
        "  return tst_loss_vect,tst_accu_vect"
      ],
      "execution_count": 0,
      "outputs": []
    },
    {
      "cell_type": "code",
      "metadata": {
        "id": "Fggqs8j4LQaC",
        "colab_type": "code",
        "colab": {}
      },
      "source": [
        "def train_validate_test(mdl):\n",
        "\n",
        "    from tqdm import tqdm\n",
        "\n",
        "    #if you have gpu then you need to convert the network and data to cuda\n",
        "    #the easiest way is to first check for device and then convert network and data to device\n",
        "    device = torch.device(\"cuda:0\" if torch.cuda.is_available() else \"cpu\")\n",
        "    mdl.to(device)\n",
        "\n",
        "    mdl.train()\n",
        "    tr_loss_vect=[]\n",
        "    tr_accu_vect=[]\n",
        "    val_loss_vect=[]\n",
        "    val_accu_vect=[]\n",
        "\n",
        "    for epoch in range(Epochs):  # loop over the dataset multiple times\n",
        "        correct = 0\n",
        "        running_loss = 0.0\n",
        "        pbar = tqdm(enumerate(trainloader))\n",
        "        for i, data in pbar:\n",
        "            # get the inputs\n",
        "            inputs, labels = data\n",
        "            inputs, labels = inputs.to(device), labels.to(device)\n",
        "\n",
        "            # zero the parameter gradients\n",
        "            optimizer.zero_grad()\n",
        "            # In PyTorch, we need to set the gradients to zero before starting to do backpropragation \n",
        "            # because PyTorch accumulates the gradients on subsequent backward passes. \n",
        "            # This is convenient while training RNNs. \n",
        "            # So, the default action is to accumulate the gradients on every loss.backward() call\n",
        "\n",
        "            # forward + backward + optimize\n",
        "            outputs = mdl(inputs)               #----> forward pass\n",
        "            loss = criterion(outputs, labels)   #----> compute loss\n",
        "            loss.backward()                     #----> backward pass\n",
        "            optimizer.step()                    #----> weights update\n",
        "\n",
        "            # print statistics\n",
        "            running_loss += loss.item()\n",
        "            \n",
        "            pbar.set_description(\n",
        "                'Train Epoch: {} [{}/{} ({:.0f}%)]\\tLoss: {:.6f}'.format(\n",
        "                    epoch, i * len(inputs), len(trainloader.dataset),\n",
        "                    100. * i / len(trainloader),\n",
        "                    loss.data.item()))\n",
        "        _, predicted = torch.max(outputs.data, 1)\n",
        "        correct = (predicted == labels).sum().item()\n",
        "        print('Accuracy of the network on the training images: %d %%' % (100 * correct / len(labels)))\n",
        "        if mdl==vgg16:\n",
        "          torch.save(mdl.state_dict(),'vg166_FC_Only.pth')\n",
        "        else:\n",
        "          torch.save(mdl.state_dict(),'res18_FC_Only.pth')\n",
        "        val_ls,val_ac=validate(mdl,device)\n",
        "        val_loss_vect.append(val_ls)\n",
        "        val_accu_vect.append(val_ac)\n",
        "        tr_loss_vect.append(running_loss)\n",
        "        tr_accu_vect.append(correct / len(labels))\n",
        "    print('Finished Training')\n",
        "    tst_loss_vect,tst_accu_vect=test(mdl,device)\n",
        "    return tr_loss_vect,tr_accu_vect,val_loss_vect,val_accu_vect,tst_loss_vect,tst_accu_vect"
      ],
      "execution_count": 0,
      "outputs": []
    },
    {
      "cell_type": "code",
      "metadata": {
        "id": "azi_Nh8gD9UX",
        "colab_type": "code",
        "colab": {
          "base_uri": "https://localhost:8080/",
          "height": 731
        },
        "outputId": "f7132c82-7756-4784-a75b-3fd2a6c5b77e"
      },
      "source": [
        "tr_loss_vect,tr_accu_vect,val_loss_vect,val_accu_vect,tst_loss_vect,tst_accu_vect=train_validate_test(vgg16)"
      ],
      "execution_count": 12,
      "outputs": [
        {
          "output_type": "stream",
          "text": [
            "Train Epoch: 0 [8928/12000 (99%)]\tLoss: 0.398160: : 94it [02:15,  1.44s/it]\n"
          ],
          "name": "stderr"
        },
        {
          "output_type": "stream",
          "text": [
            "Accuracy of the network on the training images: 81 %\n",
            "Accuracy of the network on the Validation images: 81 %\n",
            "Loss of the network on the Validation images: 5.107260376214981\n"
          ],
          "name": "stdout"
        },
        {
          "output_type": "stream",
          "text": [
            "Train Epoch: 1 [8928/12000 (99%)]\tLoss: 0.383414: : 94it [02:13,  1.42s/it]\n"
          ],
          "name": "stderr"
        },
        {
          "output_type": "stream",
          "text": [
            "Accuracy of the network on the training images: 83 %\n",
            "Accuracy of the network on the Validation images: 83 %\n",
            "Loss of the network on the Validation images: 4.745077669620514\n"
          ],
          "name": "stdout"
        },
        {
          "output_type": "stream",
          "text": [
            "Train Epoch: 2 [8928/12000 (99%)]\tLoss: 0.364078: : 94it [02:08,  1.37s/it]\n"
          ],
          "name": "stderr"
        },
        {
          "output_type": "stream",
          "text": [
            "Accuracy of the network on the training images: 83 %\n",
            "Accuracy of the network on the Validation images: 84 %\n",
            "Loss of the network on the Validation images: 4.360827833414078\n"
          ],
          "name": "stdout"
        },
        {
          "output_type": "stream",
          "text": [
            "Train Epoch: 3 [8928/12000 (99%)]\tLoss: 0.206420: : 94it [02:16,  1.45s/it]\n"
          ],
          "name": "stderr"
        },
        {
          "output_type": "stream",
          "text": [
            "Accuracy of the network on the training images: 90 %\n",
            "Accuracy of the network on the Validation images: 85 %\n",
            "Loss of the network on the Validation images: 4.21738213300705\n"
          ],
          "name": "stdout"
        },
        {
          "output_type": "stream",
          "text": [
            "Train Epoch: 4 [8928/12000 (99%)]\tLoss: 0.329702: : 94it [02:12,  1.41s/it]\n"
          ],
          "name": "stderr"
        },
        {
          "output_type": "stream",
          "text": [
            "Accuracy of the network on the training images: 85 %\n",
            "Accuracy of the network on the Validation images: 85 %\n",
            "Loss of the network on the Validation images: 4.110629469156265\n"
          ],
          "name": "stdout"
        },
        {
          "output_type": "stream",
          "text": [
            "Train Epoch: 5 [8928/12000 (99%)]\tLoss: 0.330036: : 94it [02:16,  1.45s/it]\n"
          ],
          "name": "stderr"
        },
        {
          "output_type": "stream",
          "text": [
            "Accuracy of the network on the training images: 88 %\n",
            "Accuracy of the network on the Validation images: 84 %\n",
            "Loss of the network on the Validation images: 4.252620071172714\n"
          ],
          "name": "stdout"
        },
        {
          "output_type": "stream",
          "text": [
            "Train Epoch: 6 [8928/12000 (99%)]\tLoss: 0.412435: : 94it [02:19,  1.49s/it]\n"
          ],
          "name": "stderr"
        },
        {
          "output_type": "stream",
          "text": [
            "Accuracy of the network on the training images: 86 %\n",
            "Accuracy of the network on the Validation images: 85 %\n",
            "Loss of the network on the Validation images: 4.022248193621635\n"
          ],
          "name": "stdout"
        },
        {
          "output_type": "stream",
          "text": [
            "Train Epoch: 7 [8928/12000 (99%)]\tLoss: 0.296669: : 94it [02:16,  1.45s/it]\n"
          ],
          "name": "stderr"
        },
        {
          "output_type": "stream",
          "text": [
            "Accuracy of the network on the training images: 87 %\n",
            "Accuracy of the network on the Validation images: 86 %\n",
            "Loss of the network on the Validation images: 4.045591905713081\n"
          ],
          "name": "stdout"
        },
        {
          "output_type": "stream",
          "text": [
            "Train Epoch: 8 [8928/12000 (99%)]\tLoss: 0.263596: : 94it [02:18,  1.48s/it]\n"
          ],
          "name": "stderr"
        },
        {
          "output_type": "stream",
          "text": [
            "Accuracy of the network on the training images: 88 %\n",
            "Accuracy of the network on the Validation images: 86 %\n",
            "Loss of the network on the Validation images: 4.0486811846494675\n"
          ],
          "name": "stdout"
        },
        {
          "output_type": "stream",
          "text": [
            "Train Epoch: 9 [8928/12000 (99%)]\tLoss: 0.369886: : 94it [02:16,  1.45s/it]\n"
          ],
          "name": "stderr"
        },
        {
          "output_type": "stream",
          "text": [
            "Accuracy of the network on the training images: 83 %\n",
            "Accuracy of the network on the Validation images: 86 %\n",
            "Loss of the network on the Validation images: 3.858900263905525\n",
            "Finished Training\n",
            "Accuracy of the network on the test images: 92 %\n"
          ],
          "name": "stdout"
        }
      ]
    },
    {
      "cell_type": "markdown",
      "metadata": {
        "id": "SWurVf4zEteI",
        "colab_type": "text"
      },
      "source": [
        "###VGG16 Training,Validation and Testing Curves "
      ]
    },
    {
      "cell_type": "code",
      "metadata": {
        "id": "LVE3Xt2pjEA5",
        "colab_type": "code",
        "outputId": "1af29143-acba-4315-8889-38d43dc8de60",
        "colab": {
          "base_uri": "https://localhost:8080/",
          "height": 281
        }
      },
      "source": [
        "plt.subplot(1,2,1)\n",
        "plt.title(\"Training Loss\")\n",
        "plt.plot(tr_loss_vect)\n",
        "plt.subplot(1,2,2)\n",
        "plt.title(\"Training Accuracy\")\n",
        "plt.plot(tr_accu_vect)\n",
        "plt.show()"
      ],
      "execution_count": 13,
      "outputs": [
        {
          "output_type": "display_data",
          "data": {
            "image/png": "[encoded data removed]",
            "text/plain": [
              "<Figure size 432x288 with 2 Axes>"
            ]
          },
          "metadata": {
            "tags": [],
            "needs_background": "light"
          }
        }
      ]
    },
    {
      "cell_type": "code",
      "metadata": {
        "id": "RtZbKXGOjW6X",
        "colab_type": "code",
        "outputId": "91679090-294e-4522-9317-05bab1832f07",
        "colab": {
          "base_uri": "https://localhost:8080/",
          "height": 281
        }
      },
      "source": [
        "plt.subplot(1,2,1)\n",
        "plt.plot(val_loss_vect)\n",
        "plt.title(\"Validation Loss\")\n",
        "plt.subplot(1,2,2)\n",
        "plt.plot(val_accu_vect)\n",
        "plt.title(\"Validation Accuracy\")\n",
        "plt.show()"
      ],
      "execution_count": 14,
      "outputs": [
        {
          "output_type": "display_data",
          "data": {
            "image/png": "[encoded data removed]",
            "text/plain": [
              "<Figure size 432x288 with 2 Axes>"
            ]
          },
          "metadata": {
            "tags": [],
            "needs_background": "light"
          }
        }
      ]
    },
    {
      "cell_type": "code",
      "metadata": {
        "id": "2XERIfcK__vs",
        "colab_type": "code",
        "outputId": "e09d4581-b310-48cb-9d78-6b07cbeefbae",
        "colab": {
          "base_uri": "https://localhost:8080/",
          "height": 281
        }
      },
      "source": [
        "plt.subplot(1,2,1)\n",
        "plt.plot(tst_loss_vect)\n",
        "plt.title(\"Test Loss\")\n",
        "plt.subplot(1,2,2)\n",
        "plt.plot(tst_accu_vect)\n",
        "plt.title(\"Test Accuracy\")\n",
        "plt.show()"
      ],
      "execution_count": 15,
      "outputs": [
        {
          "output_type": "display_data",
          "data": {
            "image/png": "[encoded data removed]",
            "text/plain": [
              "<Figure size 432x288 with 2 Axes>"
            ]
          },
          "metadata": {
            "tags": [],
            "needs_background": "light"
          }
        }
      ]
    },
    {
      "cell_type": "code",
      "metadata": {
        "id": "clrSTopgj7U4",
        "colab_type": "code",
        "colab": {}
      },
      "source": [
        "def confusion_matrix(y_pred,y_true):\n",
        "  from sklearn.metrics import confusion_matrix\n",
        "  tn, fp, fn, tp=confusion_matrix(y_true,y_pred).ravel()\n",
        "  return tn, fp, fn, tp"
      ],
      "execution_count": 0,
      "outputs": []
    },
    {
      "cell_type": "code",
      "metadata": {
        "id": "gJVhDpGWRiOH",
        "colab_type": "code",
        "colab": {}
      },
      "source": [
        "def get_confusion_matrix(loader,mdl):\n",
        "    device= torch.device(\"cuda:0\" if torch.cuda.is_available() else \"cpu\")\n",
        "    tn1=0\n",
        "    tp1=0\n",
        "    fp1=0\n",
        "    fn1=0\n",
        "    with torch.no_grad():\n",
        "        for data in loader:\n",
        "            images, labels = data\n",
        "            images, labels = images.to(device), labels.to(device)\n",
        "            outputs = mdl(images)\n",
        "            _, predicted = torch.max(outputs.data, 1)\n",
        "            tn, fp, fn, tp=confusion_matrix(labels.cpu(),predicted.cpu())\n",
        "            tn1+=tn\n",
        "            tp1+=tp\n",
        "            fp1+=fp\n",
        "            fn1+=fn\n",
        "    print(\"The confusion matrix entries are as follows with gold labels\")\n",
        "    print(\"Tp =\",tp1)\n",
        "    print(\"Tn =\",tn1)\n",
        "    print(\"Fp =\",fp1)\n",
        "    print(\"Fn =\",fn1)\n",
        "    print(\"Accuracy = \", (tp1+tn1)/(tp1+tn1+fp1+fn1))\n",
        "    print(\"Precision =\", tp1/(tp1+fp1))\n",
        "    pre=tp1/(tp1+fp1)\n",
        "    recl=tp1/(tp1+fn1)\n",
        "    print(\"Recall =\",tp1/(tp1+fn1))\n",
        "    print(\"F1 Measure\",(2*pre*recl)/(pre+recl))\n",
        "    return"
      ],
      "execution_count": 0,
      "outputs": []
    },
    {
      "cell_type": "markdown",
      "metadata": {
        "id": "3uQg8YTkEmHw",
        "colab_type": "text"
      },
      "source": [
        "###VGG16 Confusion Matrix Values"
      ]
    },
    {
      "cell_type": "code",
      "metadata": {
        "id": "1mW02FNXVkq-",
        "colab_type": "code",
        "colab": {
          "base_uri": "https://localhost:8080/",
          "height": 527
        },
        "outputId": "1474452a-905f-4f28-fa14-a3f4fa05b84b"
      },
      "source": [
        "print(\"Confusion Matrix for Training Dataset\")\n",
        "get_confusion_matrix(trainloader,vgg16)\n",
        "print(\"Confusion Matrix for Testing Dataset\")\n",
        "get_confusion_matrix(testloader,vgg16)\n",
        "print(\"Confusion Matrix for Validation Dataset\")\n",
        "get_confusion_matrix(validationloader,vgg16)"
      ],
      "execution_count": 20,
      "outputs": [
        {
          "output_type": "stream",
          "text": [
            "Confusion Matrix for Training Dataset\n",
            "The confusion matrix entries are as follows with gold labels\n",
            "Tp = 6390\n",
            "Tn = 3959\n",
            "Fp = 691\n",
            "Fn = 960\n",
            "Accuracy =  0.8624166666666667\n",
            "Precision = 0.9024149131478605\n",
            "Recall = 0.8693877551020408\n",
            "F1 Measure 0.8855935139629962\n",
            "Confusion Matrix for Testing Dataset\n",
            "The confusion matrix entries are as follows with gold labels\n",
            "Tp = 860\n",
            "Tn = 536\n",
            "Fp = 25\n",
            "Fn = 79\n",
            "Accuracy =  0.9306666666666666\n",
            "Precision = 0.9717514124293786\n",
            "Recall = 0.9158679446219382\n",
            "F1 Measure 0.9429824561403508\n",
            "Confusion Matrix for Validation Dataset\n",
            "The confusion matrix entries are as follows with gold labels\n",
            "Tp = 794\n",
            "Tn = 502\n",
            "Fp = 91\n",
            "Fn = 113\n",
            "Accuracy =  0.864\n",
            "Precision = 0.8971751412429378\n",
            "Recall = 0.8754134509371555\n",
            "F1 Measure 0.8861607142857143\n"
          ],
          "name": "stdout"
        }
      ]
    },
    {
      "cell_type": "markdown",
      "metadata": {
        "id": "G6UqmSrSB71n",
        "colab_type": "text"
      },
      "source": [
        "### Resnet 18 Code will start from here"
      ]
    },
    {
      "cell_type": "code",
      "metadata": {
        "id": "MBr_riNNCE6e",
        "colab_type": "code",
        "colab": {}
      },
      "source": [
        "res18 = models.resnet18(pretrained=True)\n",
        "\n",
        "for param in res18.parameters():\n",
        "    param.requires_grad = False\n",
        "\n",
        "\n",
        "num_features=res18.fc.in_features\n",
        "\n",
        "features = list(res18.fc.children())[:-1]\n",
        "\n",
        "features.extend([nn.Linear(num_features, 550)])\n",
        "features.extend([nn.Linear(550, len(class_names))])\n",
        "res18.fc=nn.Sequential(*features)"
      ],
      "execution_count": 0,
      "outputs": []
    },
    {
      "cell_type": "code",
      "metadata": {
        "id": "uBtgoaZzCYKw",
        "colab_type": "code",
        "colab": {}
      },
      "source": [
        "Epochs = 10\n",
        "criterion = nn.CrossEntropyLoss()\n",
        "optimizer = optim.SGD(res18.parameters(), lr=0.01, momentum=0.9)"
      ],
      "execution_count": 0,
      "outputs": []
    },
    {
      "cell_type": "code",
      "metadata": {
        "id": "KAnB5i9oChsE",
        "colab_type": "code",
        "colab": {}
      },
      "source": [
        "tr_loss_vect,tr_accu_vect,val_loss_vect,val_accu_vect,tst_loss_vect,tst_accu_vect=train_validate_test(res18)"
      ],
      "execution_count": 0,
      "outputs": []
    },
    {
      "cell_type": "code",
      "metadata": {
        "id": "L6qCtp9XJcYS",
        "colab_type": "code",
        "colab": {
          "base_uri": "https://localhost:8080/",
          "height": 281
        },
        "outputId": "81101757-e7c6-4b23-cf80-a61208443a92"
      },
      "source": [
        "plt.subplot(1,2,1)\n",
        "plt.title(\"Training Loss\")\n",
        "plt.plot(tr_loss_vect)\n",
        "plt.subplot(1,2,2)\n",
        "plt.title(\"Training Accuracy\")\n",
        "plt.plot(tr_accu_vect)\n",
        "plt.show()"
      ],
      "execution_count": 24,
      "outputs": [
        {
          "output_type": "display_data",
          "data": {
            "image/png": "[encoded data removed]",
            "text/plain": [
              "<Figure size 432x288 with 2 Axes>"
            ]
          },
          "metadata": {
            "tags": [],
            "needs_background": "light"
          }
        }
      ]
    },
    {
      "cell_type": "code",
      "metadata": {
        "id": "jukeptlOJdLU",
        "colab_type": "code",
        "colab": {
          "base_uri": "https://localhost:8080/",
          "height": 281
        },
        "outputId": "2e743466-0bfe-4fc4-d0d9-90e7cc721dca"
      },
      "source": [
        "plt.subplot(1,2,1)\n",
        "plt.plot(val_loss_vect)\n",
        "plt.title(\"Validation Loss\")\n",
        "plt.subplot(1,2,2)\n",
        "plt.plot(val_accu_vect)\n",
        "plt.title(\"Validation Accuracy\")\n",
        "plt.show()"
      ],
      "execution_count": 25,
      "outputs": [
        {
          "output_type": "display_data",
          "data": {
            "image/png": "[encoded data removed]",
            "text/plain": [
              "<Figure size 432x288 with 2 Axes>"
            ]
          },
          "metadata": {
            "tags": [],
            "needs_background": "light"
          }
        }
      ]
    },
    {
      "cell_type": "code",
      "metadata": {
        "id": "vonMRZw8JhIG",
        "colab_type": "code",
        "colab": {
          "base_uri": "https://localhost:8080/",
          "height": 281
        },
        "outputId": "ae451cb4-5fd4-4f95-9636-02a95dd9e4a0"
      },
      "source": [
        "plt.subplot(1,2,1)\n",
        "plt.plot(tst_loss_vect)\n",
        "plt.title(\"Test Loss\")\n",
        "plt.subplot(1,2,2)\n",
        "plt.plot(tst_accu_vect)\n",
        "plt.title(\"Test Accuracy\")\n",
        "plt.show()"
      ],
      "execution_count": 26,
      "outputs": [
        {
          "output_type": "display_data",
          "data": {
            "image/png": "[encoded data removed]",
            "text/plain": [
              "<Figure size 432x288 with 2 Axes>"
            ]
          },
          "metadata": {
            "tags": [],
            "needs_background": "light"
          }
        }
      ]
    },
    {
      "cell_type": "code",
      "metadata": {
        "id": "fxOYhLEdJq7k",
        "colab_type": "code",
        "colab": {
          "base_uri": "https://localhost:8080/",
          "height": 527
        },
        "outputId": "24876314-75e7-4540-b5ce-8c170b54ce16"
      },
      "source": [
        "print(\"Confusion Matrix for Training Dataset\")\n",
        "get_confusion_matrix(trainloader,res18)\n",
        "print(\"Confusion Matrix for Testing Dataset\")\n",
        "get_confusion_matrix(testloader,res18)\n",
        "print(\"Confusion Matrix for Validation Dataset\")\n",
        "get_confusion_matrix(validationloader,res18)"
      ],
      "execution_count": 27,
      "outputs": [
        {
          "output_type": "stream",
          "text": [
            "Confusion Matrix for Training Dataset\n",
            "The confusion matrix entries are as follows with gold labels\n",
            "Tp = 6200\n",
            "Tn = 4122\n",
            "Fp = 881\n",
            "Fn = 797\n",
            "Accuracy =  0.8601666666666666\n",
            "Precision = 0.8755825448382997\n",
            "Recall = 0.886094040302987\n",
            "F1 Measure 0.880806932802955\n",
            "Confusion Matrix for Testing Dataset\n",
            "The confusion matrix entries are as follows with gold labels\n",
            "Tp = 811\n",
            "Tn = 556\n",
            "Fp = 74\n",
            "Fn = 59\n",
            "Accuracy =  0.9113333333333333\n",
            "Precision = 0.9163841807909604\n",
            "Recall = 0.9321839080459771\n",
            "F1 Measure 0.9242165242165242\n",
            "Confusion Matrix for Validation Dataset\n",
            "The confusion matrix entries are as follows with gold labels\n",
            "Tp = 751\n",
            "Tn = 526\n",
            "Fp = 134\n",
            "Fn = 89\n",
            "Accuracy =  0.8513333333333334\n",
            "Precision = 0.848587570621469\n",
            "Recall = 0.8940476190476191\n",
            "F1 Measure 0.8707246376811595\n"
          ],
          "name": "stdout"
        }
      ]
    },
    {
      "cell_type": "code",
      "metadata": {
        "id": "3nJwalu6hokO",
        "colab_type": "code",
        "colab": {}
      },
      "source": [
        ""
      ],
      "execution_count": 0,
      "outputs": []
    }
  ]
}